{
 "cells": [
  {
   "cell_type": "code",
   "execution_count": 1,
   "metadata": {
    "collapsed": true
   },
   "outputs": [],
   "source": [
    "import praw\n",
    "import pandas as pd\n",
    "from datetime import datetime\n",
    "from collections import defaultdict\n",
    "from datetime import timedelta\n",
    "import itertools\n",
    "import ipywidgets as widgets\n",
    "import re\n",
    "from IPython.display import HTML\n",
    "\n",
    "reddit = praw.Reddit(\n",
    "    user_agent=\"reports-tool\",\n",
    "    site_name=\"ssc\"\n",
    ")\n",
    "\n",
    "pd.set_option('display.max_colwidth', 150)"
   ]
  },
  {
   "cell_type": "code",
   "execution_count": 2,
   "metadata": {
    "collapsed": true
   },
   "outputs": [],
   "source": [
    "queue = list(reddit.subreddit('mod').mod.reports(limit=None))"
   ]
  },
  {
   "cell_type": "code",
   "execution_count": 3,
   "metadata": {
    "collapsed": true
   },
   "outputs": [],
   "source": [
    "def get_reports(comment):\n",
    "    mod_reports = [(reason, 1) for (reason, _) in comment.mod_reports]\n",
    "    \n",
    "    reports_dict = defaultdict(lambda: 0)\n",
    "    for reports in comment.user_reports + mod_reports:\n",
    "        reports_dict[reports[0]] += reports[1]\n",
    "    return reports_dict\n",
    "\n",
    "problematic_comments = []\n",
    "\n",
    "def comment_to_dict(comment):\n",
    "    try:\n",
    "        reports = get_reports(comment)\n",
    "        quality_reports = sum(count for reason, count in reports.items() if \"quality\" in reason)\n",
    "        non_quality_reports = sum(count for reason, count in reports.items() if \"quality\" not in reason)\n",
    "        return {\n",
    "            \"author\": comment.author.name,\n",
    "            \"score\": comment.score,\n",
    "            \"reports\": reports,\n",
    "            \"quality\": quality_reports,\n",
    "            \"non-quality\": non_quality_reports,\n",
    "            \"age\": datetime.now() - datetime.fromtimestamp(comment.created_utc),\n",
    "            \"body\": comment.body,\n",
    "            \"object\": comment,\n",
    "            \"permalink\": \"https://www.reddit.com\" + comment.permalink\n",
    "        }\n",
    "    except Exception as e:\n",
    "        print(\"Whoops! {0} {1}\".format(comment, e))\n",
    "        problematic_comments.append(comment)\n",
    "        return {}\n",
    "\n",
    "comments = filter(lambda x: isinstance(x, praw.models.Comment) and x.author is not None, queue)\n",
    "df = pd.DataFrame.from_dict([comment_to_dict(c) for c in comments]).dropna()\n",
    "df_filtered = df[df['age'] >= timedelta(days=30)]\n"
   ]
  },
  {
   "cell_type": "code",
   "execution_count": 4,
   "metadata": {
    "scrolled": false
   },
   "outputs": [
    {
     "data": {
      "text/html": [
       "<div>\n",
       "<style>\n",
       "    .dataframe thead tr:only-child th {\n",
       "        text-align: right;\n",
       "    }\n",
       "\n",
       "    .dataframe thead th {\n",
       "        text-align: left;\n",
       "    }\n",
       "\n",
       "    .dataframe tbody tr th {\n",
       "        vertical-align: top;\n",
       "    }\n",
       "</style>\n",
       "<table border=\"1\" class=\"dataframe\">\n",
       "  <thead>\n",
       "    <tr style=\"text-align: right;\">\n",
       "      <th></th>\n",
       "      <th>non-quality</th>\n",
       "      <th>quality</th>\n",
       "      <th>score</th>\n",
       "    </tr>\n",
       "    <tr>\n",
       "      <th>author</th>\n",
       "      <th></th>\n",
       "      <th></th>\n",
       "      <th></th>\n",
       "    </tr>\n",
       "  </thead>\n",
       "  <tbody>\n",
       "  </tbody>\n",
       "</table>\n",
       "</div>"
      ],
      "text/plain": [
       "Empty DataFrame\n",
       "Columns: [non-quality, quality, score]\n",
       "Index: []"
      ]
     },
     "execution_count": 4,
     "metadata": {},
     "output_type": "execute_result"
    }
   ],
   "source": [
    "df_filtered.groupby('author').sum().sort_values(['non-quality', 'score'], ascending=[False, True])[['non-quality', 'quality', 'score']]"
   ]
  },
  {
   "cell_type": "code",
   "execution_count": null,
   "metadata": {
    "collapsed": true,
    "scrolled": true
   },
   "outputs": [],
   "source": [
    "df.groupby('author').sum().sort_values(['quality', 'non-quality'], ascending=[False, True])[['quality', 'non-quality']]"
   ]
  },
  {
   "cell_type": "code",
   "execution_count": null,
   "metadata": {
    "collapsed": true,
    "scrolled": true
   },
   "outputs": [],
   "source": [
    "current_reports = df[(df['age'] <= timedelta(days=3.0))].sort_values(['non-quality', 'score'], ascending=[False, True])\n",
    "with_hyperlink = current_reports.assign(axis=1, permalink=current_reports['permalink'].map(lambda link: '<a href=\"{0}?context=1\">link</a>'.format(link)))\n",
    "HTML(with_hyperlink[['non-quality', 'score', 'author', 'age', 'body', 'permalink']].to_html(escape=False))"
   ]
  },
  {
   "cell_type": "code",
   "execution_count": null,
   "metadata": {
    "collapsed": true,
    "scrolled": true
   },
   "outputs": [],
   "source": [
    "# Finding patterns\n",
    "df[df['non-quality'] >= 2.0 ].sort_values(['author', 'non-quality'], ascending=[True, False])"
   ]
  },
  {
   "cell_type": "code",
   "execution_count": null,
   "metadata": {
    "collapsed": true,
    "scrolled": true
   },
   "outputs": [],
   "source": [
    "#df[(df['age'] >= timedelta(days=3.0)) & (df['quality'] == 0)].sort_values(['non-quality', 'age'], ascending=[False, True])\n",
    "#df[(df['age'] >= timedelta(days=10.0)) & (df['quality'] == 0)].apply(lambda comment: print(comment['object'].mod.approve()), axis=1)"
   ]
  },
  {
   "cell_type": "code",
   "execution_count": null,
   "metadata": {
    "collapsed": true,
    "scrolled": false
   },
   "outputs": [],
   "source": [
    "def is_user_authored_text(s):\n",
    "    return len(s) > 0 and s[0] not in [\">\"]\n",
    "\n",
    "def first_non_quote_line(s):\n",
    "    try:\n",
    "        return next(x for x in s.splitlines() if is_user_authored_text(x))\n",
    "    except Exception as e:\n",
    "        print(\"Comment is all shit?\")\n",
    "        return s\n",
    "\n",
    "def first_n_words(s, n):\n",
    "    return \" \".join(s.split(\" \")[:n])\n",
    "\n",
    "\n",
    "import re\n",
    "def sanitize(s):\n",
    "    without_links = re.sub(r\"\\[([^\\[]*)\\]\\(http.*\\)\", r\"\\1\", s)\n",
    "    without_opening_brackets = re.sub(r\"\\[\", r\"\\[\", without_links)\n",
    "    return without_opening_brackets\n",
    "\n",
    "def make_blurb(comment):\n",
    "    body_blurb = sanitize(first_n_words(first_non_quote_line(comment['body']), 20))\n",
    "    return('/u/{0}: [\"{1}...\"](https://www.reddit.com{2}?context=3&sort=best)'.format(comment['author'], body_blurb, comment['object'].permalink))\n",
    "\n",
    "filtered = df_filtered[df_filtered['quality'] >= 2]\n",
    "\n",
    "pearled = filtered.assign(pearl_ratio=filtered['quality']/filtered['score']).sort_values(\"pearl_ratio\", ascending=False)\n",
    "\n",
    "try:\n",
    "    blurbed = pearled.assign(blurb=pearled.apply(axis=1, func=make_blurb))\n",
    "    print('\\n\\n'.join([\"{0}\".format(x) for x in blurbed['blurb'].tolist()]))\n",
    "except:\n",
    "    None"
   ]
  },
  {
   "cell_type": "code",
   "execution_count": null,
   "metadata": {
    "collapsed": true,
    "scrolled": true
   },
   "outputs": [],
   "source": [
    "#blurbed.apply(lambda comment: print(comment['object'].mod.approve()), axis=1)"
   ]
  },
  {
   "cell_type": "code",
   "execution_count": null,
   "metadata": {
    "collapsed": true
   },
   "outputs": [],
   "source": [
    "def chunks(l, n):\n",
    "    \"\"\"Yield successive n-sized chunks from l.\"\"\"\n",
    "    for i in range(0, len(l), n):\n",
    "        yield l[i:i + n]\n",
    "        \n",
    "formatted_comments = [\"{0}\".format(x) for x in blurbed['blurb'].tolist()]\n",
    "#for l in chunks(formatted_comments, 8):\n",
    "#    thread.reply(\"\\n\\n\".join(l))"
   ]
  },
  {
   "cell_type": "code",
   "execution_count": null,
   "metadata": {
    "collapsed": true
   },
   "outputs": [],
   "source": []
  },
  {
   "cell_type": "code",
   "execution_count": null,
   "metadata": {
    "collapsed": true
   },
   "outputs": [],
   "source": []
  }
 ],
 "metadata": {
  "kernelspec": {
   "display_name": "Python 3",
   "language": "python",
   "name": "python3"
  },
  "language_info": {
   "codemirror_mode": {
    "name": "ipython",
    "version": 3
   },
   "file_extension": ".py",
   "mimetype": "text/x-python",
   "name": "python",
   "nbconvert_exporter": "python",
   "pygments_lexer": "ipython3",
   "version": "3.6.3"
  }
 },
 "nbformat": 4,
 "nbformat_minor": 2
}
